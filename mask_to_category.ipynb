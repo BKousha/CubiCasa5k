{
  "nbformat": 4,
  "nbformat_minor": 0,
  "metadata": {
    "colab": {
      "provenance": [],
      "authorship_tag": "ABX9TyOHy9sVfvtjYKcwwV7UkHYw",
      "include_colab_link": true
    },
    "kernelspec": {
      "name": "python3",
      "display_name": "Python 3"
    },
    "language_info": {
      "name": "python"
    }
  },
  "cells": [
    {
      "cell_type": "markdown",
      "metadata": {
        "id": "view-in-github",
        "colab_type": "text"
      },
      "source": [
        "<a href=\"https://colab.research.google.com/github/BKousha/CubiCasa5k/blob/master/mask_to_category.ipynb\" target=\"_parent\"><img src=\"https://colab.research.google.com/assets/colab-badge.svg\" alt=\"Open In Colab\"/></a>"
      ]
    },
    {
      "cell_type": "code",
      "execution_count": 2,
      "metadata": {
        "colab": {
          "base_uri": "https://localhost:8080/"
        },
        "id": "uMLKwAjNm5gc",
        "outputId": "c08f4560-1ac8-4f6e-befb-18cb47fe58f7"
      },
      "outputs": [
        {
          "output_type": "stream",
          "name": "stdout",
          "text": [
            "Drive already mounted at /content/drive; to attempt to forcibly remount, call drive.mount(\"/content/drive\", force_remount=True).\n",
            "'Colab Notebooks'\n",
            "'Copy of Predictive Maintenance Checklist.gdoc'\n",
            " FloorPlan_samples\n",
            " model_best_val_loss_var.pkl\n",
            " Processed_Floor_Plans\n",
            " ShotBot\n",
            "'SNN_soft shadow network for image compositing.pdf'\n",
            " test.txt\n"
          ]
        }
      ],
      "source": [
        "from google.colab import drive\n",
        "drive.mount('/content/drive')\n",
        "!ls \"/content/drive/My Drive\""
      ]
    },
    {
      "cell_type": "code",
      "source": [
        "from tqdm import tqdm\n",
        "import cv2\n",
        "import numpy as np\n",
        "import glob as glob\n",
        "import os as os\n",
        "import matplotlib.pyplot as plt\n",
        "\n",
        "import matplotlib.patches as mpatches\n",
        "from matplotlib.colors import ListedColormap\n",
        "import matplotlib as mlp\n"
      ],
      "metadata": {
        "id": "KszJggtjnRFV"
      },
      "execution_count": 3,
      "outputs": []
    },
    {
      "cell_type": "code",
      "source": [
        "mask_folder = '/content/drive/MyDrive/Processed_Floor_Plans/FP_processed'\n",
        "translated_folder = '/content/drive/MyDrive/Processed_Floor_Plans/FP_processed/Category'"
      ],
      "metadata": {
        "id": "MVFDJuWdm_J-"
      },
      "execution_count": 4,
      "outputs": []
    },
    {
      "cell_type": "code",
      "source": [
        "color_mapping = {\n",
        "    (255,255,255):0,     # background\n",
        "    (244, 31, 46): 1,    # rooms\n",
        "    (246, 77, 89): 1,    # rooms (alternative RGB definition)\n",
        "    (70, 247, 22): 2,    # hallway\n",
        "    (248, 172, 98): 3,   # kitchen\n",
        "    (182, 112, 80): 3,   # kitchen (alternative RGB definition)\n",
        "    (244, 190, 96): 3,   # kitchen (alternative RGB definition)\n",
        "    (252, 226, 49): 4,   # columns\n",
        "    (182, 11, 80): 5,    # mep\n",
        "    (116, 53, 54): 5,    # mep\n",
        "    (136, 208, 216): 6,  # windows\n",
        "    (129, 219, 227): 6,  # windows\n",
        "    (131, 217, 225): 6,  # windows\n",
        "    (57, 52, 251): 7,    # doors\n",
        "    (42, 75, 97): 7,     # doors\n",
        "    (97, 97, 110): 7,    # doors\n",
        "    (207, 81, 216): 8,   # glass_doors\n",
        "    (223, 79, 165): 8,   # glass_doors\n",
        "    (153, 109, 89): 9,   # bathrooms\n",
        "    (128, 73, 48): 9,    # bathrooms\n",
        "    (214, 194, 223): 10, # elevators\n",
        "    (199, 184, 185): 10, # elevators (alternative RGB definition)\n",
        "    (166, 162, 160): 11, # stairs\n",
        "    (197, 141, 115): 12, # storage\n",
        "    (193, 113, 77): 12,  # storage\n",
        "    (105, 104, 159): 13, # elevator_doors\n",
        "}\n",
        "mapping_colors = np.array(list(color_mapping.keys()))\n",
        "mapping_values = np.array(list(color_mapping.values()))\n",
        "\n",
        "labels = ['background',\n",
        "          'room',\n",
        "          'hallway',\n",
        "          'kitchen',\n",
        "          'columns',\n",
        "          'mep',\n",
        "          'windows',\n",
        "          'doors',\n",
        "          'glass_doors',\n",
        "          'bathrooms',\n",
        "          'elevators',\n",
        "          'stairs',\n",
        "          'storage',\n",
        "          'elevator_doors'\n",
        "          ]\n",
        "category_colors  = ['white',      #background        0\n",
        "                    'red',        #room              1\n",
        "                    'lawngreen',  #hallway           2\n",
        "                    'peru',       #kitchen           3\n",
        "                    'yellow',     #columns           4\n",
        "                    'saddlebrown',#mep               5\n",
        "                    'deepskyblue',#windows           6\n",
        "                    'blue',       #doors             7\n",
        "                    'purple',     #glass_doors       8\n",
        "                    'sienna',     #bathrooms         9\n",
        "                    'peachpuff',  #elevators         10\n",
        "                    'gray',       #stairs            11\n",
        "                    'peachpuff',  # storage          12\n",
        "                    'purple',     #'elevator_doors'  13\n",
        "                    ]\n",
        "Number_Category=14\n",
        "\n"
      ],
      "metadata": {
        "id": "Yi3IJ_IqnAGl"
      },
      "execution_count": 5,
      "outputs": []
    },
    {
      "cell_type": "code",
      "source": [
        "mask = cv2.imread('/content/drive/MyDrive/Processed_Floor_Plans/FP_processed/47.png')#'/content/drive/MyDrive/Processed_Floor_Plans/FP_processed/41.png'\n",
        "mask = cv2.cvtColor(mask, cv2.COLOR_BGR2RGB)\n",
        "plt.imshow(mask)"
      ],
      "metadata": {
        "colab": {
          "base_uri": "https://localhost:8080/",
          "height": 452
        },
        "id": "YHCHMvLmRgLn",
        "outputId": "eb7d6a0a-fa28-4459-e3ed-8ee2ce76edf3"
      },
      "execution_count": 8,
      "outputs": [
        {
          "output_type": "execute_result",
          "data": {
            "text/plain": [
              "<matplotlib.image.AxesImage at 0x7f4f3be24910>"
            ]
          },
          "metadata": {},
          "execution_count": 8
        },
        {
          "output_type": "display_data",
          "data": {
            "text/plain": [
              "<Figure size 640x480 with 1 Axes>"
            ],
            "image/png": "[encoded data removed]"
          },
          "metadata": {}
        }
      ]
    },
    {
      "cell_type": "code",
      "source": [
        "# print(Number_Category)\n",
        "# threshold=1\n",
        "# translated = np.zeros((mask.shape[0],mask.shape[1],len(mapping_colors)), dtype=np.float32)\n",
        "# for ind in range(len(mapping_colors)):\n",
        "#   color=mapping_colors[ind]\n",
        "#   value=mapping_values[ind]\n",
        "#   color_diff = np.abs(mask - color)\n",
        "#   tmp=np.all(color_diff <= threshold, axis=-1)*value\n",
        "#   translated[:,:,ind]=tmp\n",
        "# translated=np.max(translated,axis=2)\n",
        "# print(np.unique(translated))\n",
        "# translated_array = np.zeros(mask.shape[:2], dtype=np.float32)\n",
        "# for color, value in zip(mapping_colors, mapping_values):\n",
        "#     color_diff = np.abs(mask - color)\n",
        "#     mask_match = np.all(color_diff <= threshold, axis=-1)\n",
        "#     translated_array[mask_match] = value\n",
        "# print(np.unique(translated))"
      ],
      "metadata": {
        "id": "AcSCGX_8fkfJ"
      },
      "execution_count": 9,
      "outputs": []
    },
    {
      "cell_type": "code",
      "source": [
        "\n",
        "def translate(mask, threshold=5):\n",
        "    translated = np.zeros((mask.shape[0],mask.shape[1],len(mapping_colors)), dtype=np.float32)\n",
        "    for ind in range(len(mapping_colors)):\n",
        "      color=mapping_colors[ind]\n",
        "      value=mapping_values[ind]\n",
        "      color_diff = np.abs(mask - color)\n",
        "      tmp=np.all(color_diff <= threshold, axis=-1)*value\n",
        "      translated[:,:,ind]=tmp\n",
        "    translated=np.max(translated,axis=2)\n",
        "\n",
        "    return translated\n",
        "\n",
        "def translate(mask, threshold=5):\n",
        "  translated = np.zeros(mask.shape[:2], dtype=np.uint8)\n",
        "  for color, value in zip(mapping_colors, mapping_values):\n",
        "      color_diff = np.abs(mask - color)\n",
        "      mask_match = np.all(color_diff <= threshold, axis=-1)\n",
        "      translated[mask_match] = value\n",
        "  return translated\n",
        "\n",
        "# def doit(mask_file):\n",
        "#   mask = cv2.imread(image)\n",
        "#   mask = cv2.cvtColor(mask, cv2.COLOR_BGR2RGB)\n",
        "\n",
        "#   translated=translate(mask,threshold=5)\n",
        "#   image_array_scaled = (translated * 255).astype(np.uint8)\n",
        "\n",
        "#   folder, filename = os.path.split(image)\n",
        "#   outputfile=translated_folder+\"/\"+filename\n",
        "\n",
        "#   cv2.imwrite(outputfile,image_array_scaled)\n"
      ],
      "metadata": {
        "id": "iSmbNp7ZnMpt"
      },
      "execution_count": 9,
      "outputs": []
    },
    {
      "cell_type": "code",
      "source": [
        "cmap = ListedColormap(category_colors)\n",
        "norm = mlp.colors.BoundaryNorm([-1,0.1,1.1,2.1,3.1,4.1,5.1,6.1,7.1,8.1,9.1,10.1,12.1,13.1,14.1], cmap.N)\n",
        "\n",
        "\n",
        "\n",
        "image_files = glob.glob(os.path.join(mask_folder, '*.png'))\n",
        "for image in tqdm(image_files):\n",
        "  mask = cv2.imread(image)\n",
        "  mask = cv2.cvtColor(mask, cv2.COLOR_BGR2RGB)\n",
        "\n",
        "  b,g,r = cv2.split(mask)\n",
        "  shiftet_im = b + 1000 * (g + 1)  + 1000 * 1000 * (r + 1)\n",
        "  shiftet_im\n",
        "\n",
        "  translated=translate(mask,threshold=1)\n",
        "  print(translated.shape,translated.dtype)\n",
        "\n",
        "  image_array_scaled = ((translated.astype(np.float32)/Number_Category)*255.0).astype(np.uint8)\n",
        "\n",
        "  folder, filename = os.path.split(image)\n",
        "  outputfile_png=translated_folder+\"/\"+filename\n",
        "  filename, extension = os.path.splitext(filename)\n",
        "  outputfile_npy=f\"{translated_folder}/{filename}.npy\"\n",
        "\n",
        "  cv2.imwrite(outputfile_png,image_array_scaled,[cv2.IMWRITE_PNG_COMPRESSION, 0])\n",
        "  np.save(outputfile_npy, translated)\n",
        "\n",
        "  fig, axs = plt.subplots(1, 2, figsize=(10, 10))\n",
        "  im1 = axs[0].imshow(mask, cmap='rainbow')\n",
        "  axs[0].axis('off')\n",
        "  im2 = axs[1].imshow(translated, cmap=cmap,norm=norm)\n",
        "  axs[1].axis('off')\n",
        "\n",
        "  # Create a custom legend\n",
        "  legend_patches = [mpatches.Patch(color=color, label=label) for color, label in zip(category_colors, labels)]\n",
        "  axs[1].legend(handles=legend_patches, loc='upper left', bbox_to_anchor=(1.05, 1))\n",
        "\n",
        "\n",
        "\n",
        "  plt.tight_layout()\n",
        "  plt.show()"
      ],
      "metadata": {
        "colab": {
          "base_uri": "https://localhost:8080/",
          "height": 550
        },
        "id": "krL6ww8IoCpO",
        "outputId": "d3db7614-3631-4efe-c39a-0b5210b8a9b5"
      },
      "execution_count": 28,
      "outputs": [
        {
          "output_type": "stream",
          "name": "stderr",
          "text": [
            "\r  0%|          | 0/1 [00:00<?, ?it/s]"
          ]
        },
        {
          "output_type": "stream",
          "name": "stdout",
          "text": [
            "(1195, 970) uint8\n"
          ]
        },
        {
          "output_type": "display_data",
          "data": {
            "text/plain": [
              "<Figure size 1000x1000 with 2 Axes>"
            ],
            "image/png": "[encoded data removed]"
          },
          "metadata": {}
        },
        {
          "output_type": "stream",
          "name": "stderr",
          "text": [
            "100%|██████████| 1/1 [00:01<00:00,  1.98s/it]\n"
          ]
        }
      ]
    },
    {
      "cell_type": "code",
      "source": [
        "# mask = cv2.imread(image)#'/content/drive/MyDrive/Processed_Floor_Plans/FP_processed/Category/41.png'\n",
        "# mask = cv2.cvtColor(mask, cv2.COLOR_BGR2RGB)\n",
        "\n",
        "# translated = cv2.imread(outputfile_png,cv2.IMREAD_GRAYSCALE)#'/content/drive/MyDrive/Processed_Floor_Plans/FP_processed/Category/41.png'\n",
        "\n",
        "# translated = ((translated.astype(np.float32)/ 255.0)*Number_Category)\n",
        "\n",
        "# fig, axs = plt.subplots(1, 2, figsize=(20, 20))\n",
        "# im1 = axs[0].imshow(mask, cmap='rainbow')\n",
        "# axs[0].axis('off')\n",
        "# im2 = axs[1].imshow(translated, cmap=cmap,norm=norm)\n",
        "# axs[1].axis('off')\n",
        "\n",
        "# # Create a custom legend\n",
        "# legend_patches = [mpatches.Patch(color=color, label=label) for color, label in zip(category_colors, labels)]\n",
        "# axs[1].legend(handles=legend_patches, loc='upper left', bbox_to_anchor=(1.05, 1))\n",
        "\n",
        "\n",
        "\n",
        "# plt.tight_layout()\n",
        "# plt.show()\n",
        "\n"
      ],
      "metadata": {
        "id": "kY9XHGoOI1oR"
      },
      "execution_count": 29,
      "outputs": []
    },
    {
      "cell_type": "code",
      "source": [
        "# mask = cv2.imread(image)#'/content/drive/MyDrive/Processed_Floor_Plans/FP_processed/Category/41.png'\n",
        "# mask = cv2.cvtColor(mask, cv2.COLOR_BGR2RGB)\n",
        "\n",
        "# translated_1=translate(mask,threshold=1)\n",
        "\n",
        "\n",
        "# translated_2 = cv2.imread(outputfile_png,cv2.IMREAD_GRAYSCALE)#'/content/drive/MyDrive/Processed_Floor_Plans/FP_processed/Category/41.png'\n",
        "\n",
        "# translated_2 = ((translated_2.astype(np.float32)/ 255.0)*Number_Category)\n",
        "# tmp=np.abs(translated_1-translated_2)\n",
        "# print(tmp.sum())\n",
        "# plt.imshow(tmp)\n",
        "\n",
        "# fig, axs = plt.subplots(1, 2, figsize=(20, 20))\n",
        "# im1 = axs[0].imshow(mask, cmap='rainbow')\n",
        "# axs[0].axis('off')\n",
        "# im2 = axs[1].imshow(translated_1, cmap=cmap,norm=norm)\n",
        "# axs[1].axis('off')\n",
        "\n",
        "# # Create a custom legend\n",
        "# legend_patches = [mpatches.Patch(color=color, label=label) for color, label in zip(category_colors, labels)]\n",
        "# axs[1].legend(handles=legend_patches, loc='upper left', bbox_to_anchor=(1.05, 1))\n",
        "\n",
        "\n",
        "\n",
        "# plt.tight_layout()\n",
        "# plt.show()"
      ],
      "metadata": {
        "id": "DeCwVPqirWSp"
      },
      "execution_count": 30,
      "outputs": []
    },
    {
      "cell_type": "code",
      "source": [
        "# print(outputfile_npy)\n",
        "# translated_2 = np.load(outputfile_npy)#'/content/drive/MyDrive/Processed_Floor_Plans/FP_processed/Category/41.png'\n",
        "# print(translated_2.shape,translated_2.dtype)\n",
        "# tmp=np.abs(translated_1-translated_2)\n",
        "# print(tmp.sum())\n",
        "# plt.imshow(tmp)\n",
        "\n",
        "\n",
        "\n",
        "# fig, axs = plt.subplots(1, 2, figsize=(20, 20))\n",
        "# im1 = axs[0].imshow(mask, cmap='rainbow')\n",
        "# axs[0].axis('off')\n",
        "# im2 = axs[1].imshow(translated_2, cmap=cmap,norm=norm)\n",
        "# axs[1].axis('off')\n",
        "\n",
        "# # Create a custom legend\n",
        "# legend_patches = [mpatches.Patch(color=color, label=label) for color, label in zip(category_colors, labels)]\n",
        "# axs[1].legend(handles=legend_patches, loc='upper left', bbox_to_anchor=(1.05, 1))\n",
        "\n",
        "\n",
        "\n",
        "# plt.tight_layout()\n",
        "# plt.show()\n",
        "\n"
      ],
      "metadata": {
        "id": "xg8kBV2trlbY"
      },
      "execution_count": 26,
      "outputs": []
    }
  ]
}