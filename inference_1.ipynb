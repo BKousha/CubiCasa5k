{
  "nbformat": 4,
  "nbformat_minor": 0,
  "metadata": {
    "colab": {
      "provenance": [],
      "mount_file_id": "1gbqW1qUnoewyKzlWePMZifcDiWbo3JuI",
      "authorship_tag": "ABX9TyMQv98Pxry66kpjhjJOeatu",
      "include_colab_link": true
    },
    "kernelspec": {
      "name": "python3",
      "display_name": "Python 3"
    },
    "language_info": {
      "name": "python"
    }
  },
  "cells": [
    {
      "cell_type": "markdown",
      "metadata": {
        "id": "view-in-github",
        "colab_type": "text"
      },
      "source": [
        "<a href=\"https://colab.research.google.com/github/BKousha/CubiCasa5k/blob/BK_inference/inference_1.ipynb\" target=\"_parent\"><img src=\"https://colab.research.google.com/assets/colab-badge.svg\" alt=\"Open In Colab\"/></a>"
      ]
    },
    {
      "cell_type": "code",
      "execution_count": 1,
      "metadata": {
        "id": "F7ON0OOiCMRX",
        "colab": {
          "base_uri": "https://localhost:8080/"
        },
        "outputId": "9632b428-bd3f-4fa6-c407-74039084409e"
      },
      "outputs": [
        {
          "output_type": "stream",
          "name": "stdout",
          "text": [
            "Drive already mounted at /content/drive; to attempt to forcibly remount, call drive.mount(\"/content/drive\", force_remount=True).\n",
            "'Colab Notebooks'\n",
            "'Copy of Predictive Maintenance Checklist.gdoc'\n",
            " FloorPlan_samples\n",
            "'SNN_soft shadow network for image compositing.pdf'\n"
          ]
        }
      ],
      "source": [
        "import os\n",
        "from google.colab import drive\n",
        "drive.mount('/content/drive')\n",
        "!ls \"/content/drive/My Drive\""
      ]
    },
    {
      "cell_type": "code",
      "source": [
        "!ls \"/content/drive/My Drive\""
      ],
      "metadata": {
        "colab": {
          "base_uri": "https://localhost:8080/"
        },
        "id": "bWNC8Z0j4y9E",
        "outputId": "b443357c-526e-4523-a1cf-4ca7b4f849d5"
      },
      "execution_count": 2,
      "outputs": [
        {
          "output_type": "stream",
          "name": "stdout",
          "text": [
            "'Colab Notebooks'\n",
            "'Copy of Predictive Maintenance Checklist.gdoc'\n",
            " FloorPlan_samples\n",
            "'SNN_soft shadow network for image compositing.pdf'\n"
          ]
        }
      ]
    },
    {
      "cell_type": "code",
      "source": [
        "! git clone link/to/your/repo."
      ],
      "metadata": {
        "id": "qyUtNddg3qWq"
      },
      "execution_count": null,
      "outputs": []
    }
  ]
}